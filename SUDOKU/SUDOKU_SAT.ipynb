{
 "cells": [
  {
   "cell_type": "code",
   "execution_count": 1,
   "metadata": {},
   "outputs": [],
   "source": [
    "from itertools import product\n",
    "import numpy as np\n",
    "import pycosat"
   ]
  },
  {
   "cell_type": "markdown",
   "metadata": {},
   "source": [
    "# Задание 3. Судоку\n",
    "Решите «самую сложную головоломку судоку» (по мнению The Telegraph):\n",
    "\n",
    "![sudoku_example](./sudoku.JPG)\n",
    "\n",
    "Напишите программу, решающую произвольные судоку с помощью SAT или\n",
    "LP."
   ]
  },
  {
   "cell_type": "markdown",
   "metadata": {},
   "source": [
    "# Постановка задачи \n",
    "Головоломка судоку представлена сеткой 9×9, которая состоит из девяти подсеток 3×3 (также называемых коробками). Некоторые элементы сетки заполнены числами от 1 до 9, тогда как другие элементы оставлены пустыми. Головоломка судоку решается путем присвоения пустым элементам чисел от 1 до 9 таким образом, чтобы каждая строка, каждый столбец и каждая подсетка 3×3 содержали каждое из девяти возможных чисел.\n",
    "\n",
    "Задачу судоку можно обобщить на случай квадрата $n\\times n$, заполненного числами от 1 до $n$."
   ]
  },
  {
   "cell_type": "markdown",
   "metadata": {},
   "source": [
    "# Кодировка SAT для задачи судоку\n",
    "Задача SAT представлена с помощью $n$  переменных $x_1, x_2, ... , x_n$, которым можно присвоить значения истинности 0 (ложь) или 1 (истина). Литерал $l_i$ — это либо переменная $x_i$ (т. е. положительный литерал), либо ее дополнение $\\bar{x_i}$ (т. е. отрицательный литерал). Дизъюнкт (предложение, клоз) $C_j$ является дизъюнктом литералов, а формула КНФ $\\varphi$ является конъюнкцией дизъюнктов. \n",
    "\n",
    "$$\\varphi = C_1 \\wedge C_2 \\wedge ... \\wedge C_r,\\quad C_m = l_{i_1} \\vee l_{i_2} \\vee ... l_{i_m}$$\n",
    "\n",
    "Литерал $l_i$ дизъюнкта $C_j$, которому присвоено истинностное значение 1, удовлетворяет предложению, и говорят, что предложение _выполнено_. _Формула выполняется_, если выполняются все ее условия. Проблема SAT состоит в том, чтобы решить, существует ли истинное назначение переменных, при котором формула удовлетворяется."
   ]
  },
  {
   "cell_type": "markdown",
   "metadata": {},
   "source": [
    "Введем переменные $x_{i,j,v}$. Переменная $x_{i,j,v}$ принимает истинное значение тогда и только тогда, когда в строке $i$ и столбце $j$ стоит число $v$. Тогда для кодирования задачи судоку потребуется $9\\cdot 9\\cdot 9 = 729$ переменных.\n",
    "\n",
    "Необходимо, чтобы каждая строка, каждый столбец и каждая клетка $3\\times 3$ (назовем их _объектами_) содержали каждое из девяти возможных чисел. Каждый из этих объектов состоит из 9 клеточек и может быть однозначно описан координатами этих клеток $p_k = (i_k, j_k)$. Тогда:\n",
    "1. В каждой клетке $p_i$ должна стоять одна из 9 цифр: \n",
    "$\\vee_{v=1}^9 x_{p_i, v}$\n",
    "\n",
    "2. В каждой клетке одновременно может стоять только одно число: \n",
    "$\\wedge_{v = 1}^8 \\wedge_{u = v+1 }^ 9 (\\bar x_{p_i, v} \\vee \\bar x_{p_i, u})$\n",
    "\n",
    "Для каждого объекта условие того, что 9 клеток содержат различные значения, можно записать в виде формулы:\n",
    "\n",
    "$$F(p_1, p_2, p_3, p_4, p_5, p_6, p_7, p_8, p_9) = \\wedge_{i = 1}^8 \\wedge_{j = i+1 }^ 9 \\wedge_{v = 1}^9 (\\bar x_{p_i, v} \\vee \\bar x_{p_j, v})$$\n",
    "\n"
   ]
  },
  {
   "cell_type": "markdown",
   "metadata": {},
   "source": [
    "Таким образом, необходимо, чтобы были выполнены следующие условия:\n",
    "1. Каждое число встречается хотя бы один раз:  \n",
    "$C_1 = \\wedge_{i=1}^9 \\wedge_{j=1}^9 \\vee_{v=1}^9 x_{i,j,v}$\n",
    "\n",
    "2. Каждое число появляется не более одного раза в каждой строке:  \n",
    "$C_2 =\\wedge_{j=1}^9( \\wedge_{v=1}^9 \\wedge_{i=1}^8 \\wedge_{k=i+1}^9  (\\bar x_{i,j,v} \\vee \\bar x_{k,j,v}) )$\n",
    "\n",
    "3. Каждое число появляется не более одного раза в каждом столбце:  \n",
    "$C_3 =\\wedge_{i=1}^9( \\wedge_{v=1}^9 \\wedge_{j=1}^8 \\wedge_{k=j+1}^9  (\\bar x_{i,j,v} \\vee \\bar x_{i,k,v}) )$\n",
    "\n",
    "4. Каждое число появляется не более одного раза в каждой подсетке $3\\times 3$:  \n",
    "$C_4 =\\wedge_{v = 1}^9 (\\wedge_{p = 0}^2 \\wedge_{q = 0}^2 \\wedge_{i = 1}^3 \\wedge_{j = 1}^3 \\wedge_{k = j+1}^3 (\\bar x_{(3p + i),(3q + j),v} \\vee \\bar x_{(3p + i),(3q + k),v}))$  \n",
    "$C_5 = \\wedge_{v = 1}^9 (\\wedge_{p = 0}^2 \\wedge_{q = 0}^2 \\wedge_{i = 1}^3 \\wedge_{j = 1}^3 \\wedge_{k = i+1}^3 \\wedge_{l = 1}^3  (\\bar x_{(3p + i),(3q + j),v} \\vee \\bar x_{(3p + k),(3q + l),v}))$\n",
    "\n",
    "И итоговая формула:\n",
    "$$\\varphi = C_1 \\wedge C_2 \\wedge C_3 \\wedge C_4 \\wedge C_5$$"
   ]
  },
  {
   "cell_type": "code",
   "execution_count": 2,
   "metadata": {},
   "outputs": [],
   "source": [
    "# преодразование тройного индекса (i,j,v) в одинарный\n",
    "def ijv_to_id(i,j,v):\n",
    "    return i*81 + j*9 + v + 1\n",
    "\n",
    "# преодразование одинарного индекса в тройной (i,j,v)\n",
    "def id_to_ijv(ind):\n",
    "    ind = ind - 1\n",
    "    i = ind // 81\n",
    "    ind = ind - 81*i\n",
    "    j = ind // 9\n",
    "    v = ind - 9*j\n",
    "    return i,j,v\n",
    "\n",
    "# получаем клоз С1 (каждое число встречается х.б. один раз)\n",
    "def get_C1():\n",
    "    C1 = []\n",
    "    for i,j in product(range(9), repeat=2):\n",
    "        C1.append([ijv_to_id(i,j,v) for v in range(9)])\n",
    "    return C1\n",
    "\n",
    "# получаем клоз С2 (каждое число появляется не более одного раза в каждой строке)\n",
    "def get_C2():\n",
    "    C2 = []\n",
    "    for j,v in product(range(9), repeat=2):\n",
    "        for i in range(8):\n",
    "            for k in range(i+1,9):\n",
    "                C2.append([-ijv_to_id(i,j,v), -ijv_to_id(k,j,v)])\n",
    "    return C2\n",
    "\n",
    "# получаем клоз С3 (каждое число появляется не более одного раза в каждом столбце)\n",
    "def get_C3():\n",
    "    C3 = []\n",
    "    for i,v in product(range(9), repeat=2):\n",
    "        for j in range(8):\n",
    "            for k in range(j+1,9):\n",
    "                C3.append([-ijv_to_id(i,j,v), -ijv_to_id(i,k,v)])\n",
    "    return C3\n",
    "\n",
    "# получаем клоз С4 (каждое число появляется не более одного раза в каждой подсетке)\n",
    "def get_C4():\n",
    "    C4 = []\n",
    "    for v in range(9):\n",
    "        for p,q,i,j in product(range(3), repeat=4):\n",
    "            for k in range(j+1,3):\n",
    "                C4.append([-ijv_to_id(3*p + i,3*q + j,v), -ijv_to_id(3*p + i,3*q + k,v)])\n",
    "    return C4\n",
    "\n",
    "# получаем клоз С5 (каждое число появляется не более одного раза в каждой подсетке)\n",
    "def get_C5():\n",
    "    C5 = []\n",
    "    for v in range(9):\n",
    "        for p,q,i,j,l in product(range(3), repeat=5):\n",
    "            for k in range(i+1,3):\n",
    "                C5.append([-ijv_to_id(3*p + i,3*q + j,v), -ijv_to_id(3*p + k,3*q + l,v)])\n",
    "    return C5"
   ]
  },
  {
   "cell_type": "code",
   "execution_count": 3,
   "metadata": {},
   "outputs": [],
   "source": [
    "C1 = get_C1()\n",
    "C2 = get_C2()\n",
    "C3 = get_C3()\n",
    "C4 = get_C4()\n",
    "C5 = get_C5()"
   ]
  },
  {
   "cell_type": "code",
   "execution_count": 4,
   "metadata": {},
   "outputs": [
    {
     "name": "stdout",
     "output_type": "stream",
     "text": [
      "Количество дизъюнктов в C1: 81\n",
      "Количество дизъюнктов в C2: 2916\n",
      "Количество дизъюнктов в C3: 2916\n",
      "Количество дизъюнктов в C4: 729\n",
      "Количество дизъюнктов в C5: 2187\n",
      "\n",
      "Всего дизъюнктов в формуле: 8829\n"
     ]
    }
   ],
   "source": [
    "print('Количество дизъюнктов в C1: {}'.format(len(C1)))\n",
    "print('Количество дизъюнктов в C2: {}'.format(len(C2)))\n",
    "print('Количество дизъюнктов в C3: {}'.format(len(C3)))\n",
    "print('Количество дизъюнктов в C4: {}'.format(len(C4)))\n",
    "print('Количество дизъюнктов в C5: {}'.format(len(C5)))\n",
    "print('\\nВсего дизъюнктов в формуле: {}'.format(len(C1) + len(C2) + len(C3) + len(C4) + len(C5)))"
   ]
  },
  {
   "cell_type": "markdown",
   "metadata": {},
   "source": [
    "# Чтение данных"
   ]
  },
  {
   "cell_type": "code",
   "execution_count": 11,
   "metadata": {},
   "outputs": [],
   "source": [
    "def read_data(file_name):\n",
    "    print('PROBLEM: \\n')\n",
    "    variables = []\n",
    "    i = 0\n",
    "    with open(file_name) as f_in:\n",
    "        lines = f_in.readlines()\n",
    "        for line in lines:\n",
    "            print(line, end = '')\n",
    "            line_splited = line.replace('|','').replace('+','').replace('-','').split()\n",
    "            if len(line_splited) > 0:\n",
    "                for j, val in enumerate(line_splited):\n",
    "                    if val != '.':\n",
    "                        variables.append([ijv_to_id(i,j,int(val) - 1)])\n",
    "                i = i+1            \n",
    "    return variables"
   ]
  },
  {
   "cell_type": "code",
   "execution_count": 12,
   "metadata": {},
   "outputs": [
    {
     "name": "stdout",
     "output_type": "stream",
     "text": [
      "PROBLEM: \n",
      "\n",
      "+-------+-------+-------+\n",
      "| 8 . . | . . . | . . . |\n",
      "| . . 3 | 6 . . | . . . |\n",
      "| . 7 . | . 9 . | 2 . . |\n",
      "+-------+-------+-------+\n",
      "| . 5 . | . . 7 | . . . |\n",
      "| . . . | . 4 5 | 7 . . |\n",
      "| . . . | 1 . . | . 3 . |\n",
      "|-------+-------+-------+\n",
      "| . . 1 | . . . | . 6 8 |\n",
      "| . . 8 | 5 . . | . 1 . |\n",
      "| . 9 . | . . . | 4 . . |\n",
      "+-------+-------+-------+"
     ]
    }
   ],
   "source": [
    "data = read_data('./problem1.txt')"
   ]
  },
  {
   "cell_type": "markdown",
   "metadata": {},
   "source": [
    "# Решение судоку"
   ]
  },
  {
   "cell_type": "code",
   "execution_count": 7,
   "metadata": {},
   "outputs": [],
   "source": [
    "def print_row(i, ans_sudoku):\n",
    "    print('| {} {} {} | {} {} {} | {} {} {} |'.format(ans_sudoku[(i,0)],\\\n",
    "                                                      ans_sudoku[(i,1)],\\\n",
    "                                                      ans_sudoku[(i,2)],\\\n",
    "                                                      ans_sudoku[(i,3)],\\\n",
    "                                                      ans_sudoku[(i,4)],\\\n",
    "                                                      ans_sudoku[(i,5)],\\\n",
    "                                                      ans_sudoku[(i,6)],\\\n",
    "                                                      ans_sudoku[(i,7)],\\\n",
    "                                                      ans_sudoku[(i,8)])) \n",
    "def print_sudoku(dict_sudoku):\n",
    "    for i in range(9):\n",
    "        if i%3 == 0:\n",
    "            print('+-------+-------+-------+')\n",
    "        print_row(i,dict_sudoku)\n",
    "    print('+-------+-------+-------+')   \n",
    "    \n",
    "def solve_sudoku(data):\n",
    "    C1 = get_C1()\n",
    "    C2 = get_C2()\n",
    "    C3 = get_C3()\n",
    "    C4 = get_C4()\n",
    "    C5 = get_C5()\n",
    "    \n",
    "    solution = pycosat.solve(C1 + C2 + C3 + C4 + C5 + data)\n",
    "    \n",
    "    ans_sudoku = {}\n",
    "    ans_ids = np.where(np.array(solution) > 0)\n",
    "    for ans_id in ans_ids[0]:\n",
    "        i,j,v = id_to_ijv(solution[ans_id])\n",
    "        ans_sudoku[(i,j)] = v+1\n",
    "    \n",
    "    print('SOLUTION:\\n')\n",
    "    print_sudoku(ans_sudoku)"
   ]
  },
  {
   "cell_type": "code",
   "execution_count": 8,
   "metadata": {},
   "outputs": [
    {
     "name": "stdout",
     "output_type": "stream",
     "text": [
      "SOLUTION:\n",
      "\n",
      "+-------+-------+-------+\n",
      "| 8 1 2 | 7 5 3 | 6 4 9 |\n",
      "| 9 4 3 | 6 8 2 | 1 7 5 |\n",
      "| 6 7 5 | 4 9 1 | 2 8 3 |\n",
      "+-------+-------+-------+\n",
      "| 1 5 4 | 2 3 7 | 8 9 6 |\n",
      "| 3 6 9 | 8 4 5 | 7 2 1 |\n",
      "| 2 8 7 | 1 6 9 | 5 3 4 |\n",
      "+-------+-------+-------+\n",
      "| 5 2 1 | 9 7 4 | 3 6 8 |\n",
      "| 4 3 8 | 5 2 6 | 9 1 7 |\n",
      "| 7 9 6 | 3 1 8 | 4 5 2 |\n",
      "+-------+-------+-------+\n"
     ]
    }
   ],
   "source": [
    "solve_sudoku(data)"
   ]
  },
  {
   "cell_type": "markdown",
   "metadata": {},
   "source": [
    "# Еще какие-нибудь примеры..."
   ]
  },
  {
   "cell_type": "code",
   "execution_count": 13,
   "metadata": {},
   "outputs": [
    {
     "name": "stdout",
     "output_type": "stream",
     "text": [
      "PROBLEM: \n",
      "\n",
      "+-------+-------+-------+\n",
      "| 8 4 . | 7 5 . | . . . |\n",
      "| . . . | . 6 . | . 8 . |\n",
      "| . . . | . . 8 | 5 9 2 |\n",
      "+-------+-------+-------+\n",
      "| . 3 6 | . 9 . | . 5 . |\n",
      "| 9 . . | . . 7 | 6 . . |\n",
      "| 4 . . | 6 . . | . 1 9 |\n",
      "|-------+-------+-------+\n",
      "| . . 4 | . 2 . | . . 6 |\n",
      "| . 8 9 | . . . | . . . |\n",
      "| 7 . . | . . 6 | . . . |\n",
      "+-------+-------+-------+\n",
      "\n",
      "SOLUTION:\n",
      "\n",
      "+-------+-------+-------+\n",
      "| 8 4 2 | 7 5 9 | 3 6 1 |\n",
      "| 5 9 1 | 3 6 2 | 7 8 4 |\n",
      "| 3 6 7 | 4 1 8 | 5 9 2 |\n",
      "+-------+-------+-------+\n",
      "| 2 3 6 | 8 9 1 | 4 5 7 |\n",
      "| 9 1 5 | 2 4 7 | 6 3 8 |\n",
      "| 4 7 8 | 6 3 5 | 2 1 9 |\n",
      "+-------+-------+-------+\n",
      "| 1 5 4 | 9 2 3 | 8 7 6 |\n",
      "| 6 8 9 | 5 7 4 | 1 2 3 |\n",
      "| 7 2 3 | 1 8 6 | 9 4 5 |\n",
      "+-------+-------+-------+\n"
     ]
    }
   ],
   "source": [
    "data = read_data('./problem2.txt')\n",
    "print('\\n')\n",
    "solve_sudoku(data)"
   ]
  },
  {
   "cell_type": "code",
   "execution_count": 14,
   "metadata": {},
   "outputs": [
    {
     "name": "stdout",
     "output_type": "stream",
     "text": [
      "PROBLEM: \n",
      "\n",
      "+-------+-------+-------+\n",
      "| 3 . . | . . . | . 6 . |\n",
      "| 5 7 . | 2 . . | . . . |\n",
      "| . 8 . | . 5 . | . 4 . |\n",
      "+-------+-------+-------+\n",
      "| . . . | . 7 1 | 3 . 9 |\n",
      "| . . 1 | 4 . 6 | 5 . . |\n",
      "| . 5 3 | . . . | 6 . . |\n",
      "|-------+-------+-------+\n",
      "| . . . | . 8 . | 4 . 7 |\n",
      "| . 4 . | . . . | . . 1 |\n",
      "| 9 . . | 7 4 . | . . . |\n",
      "+-------+-------+-------+\n",
      "\n",
      "SOLUTION:\n",
      "\n",
      "+-------+-------+-------+\n",
      "| 3 2 9 | 8 1 4 | 7 6 5 |\n",
      "| 5 7 4 | 2 6 9 | 1 8 3 |\n",
      "| 1 8 6 | 3 5 7 | 9 4 2 |\n",
      "+-------+-------+-------+\n",
      "| 4 6 8 | 5 7 1 | 3 2 9 |\n",
      "| 2 9 1 | 4 3 6 | 5 7 8 |\n",
      "| 7 5 3 | 9 2 8 | 6 1 4 |\n",
      "+-------+-------+-------+\n",
      "| 6 3 5 | 1 8 2 | 4 9 7 |\n",
      "| 8 4 7 | 6 9 5 | 2 3 1 |\n",
      "| 9 1 2 | 7 4 3 | 8 5 6 |\n",
      "+-------+-------+-------+\n"
     ]
    }
   ],
   "source": [
    "data = read_data('./problem3.txt')\n",
    "print('\\n')\n",
    "solve_sudoku(data)"
   ]
  },
  {
   "cell_type": "code",
   "execution_count": null,
   "metadata": {},
   "outputs": [],
   "source": []
  }
 ],
 "metadata": {
  "kernelspec": {
   "display_name": "Python 3",
   "language": "python",
   "name": "python3"
  },
  "language_info": {
   "codemirror_mode": {
    "name": "ipython",
    "version": 3
   },
   "file_extension": ".py",
   "mimetype": "text/x-python",
   "name": "python",
   "nbconvert_exporter": "python",
   "pygments_lexer": "ipython3",
   "version": "3.7.6"
  }
 },
 "nbformat": 4,
 "nbformat_minor": 4
}
